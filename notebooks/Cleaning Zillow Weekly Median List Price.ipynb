{
 "cells": [
  {
   "cell_type": "code",
   "execution_count": 1,
   "metadata": {},
   "outputs": [],
   "source": [
    "import os\n",
    "import pandas as pd\n"
   ]
  },
  {
   "cell_type": "code",
   "execution_count": 2,
   "metadata": {},
   "outputs": [
    {
     "data": {
      "text/plain": [
       "['.gitkeep',\n",
       " '0-Metro_inventory_and_sales_uc_sfrcondo_smoothed_week.csv',\n",
       " '02 - Metro_mlp_uc_sfrcondo_smoothed_week.csv',\n",
       " 'unused']"
      ]
     },
     "execution_count": 2,
     "metadata": {},
     "output_type": "execute_result"
    }
   ],
   "source": [
    "cwd_path = os.getcwd()\n",
    "data_path = cwd_path[:-9] + '\\\\data\\\\raw'\n",
    "data_file = '02 - Metro_mlp_uc_sfrcondo_smoothed_week.csv'\n",
    "\n",
    "file_path = data_path + '\\\\' + data_file\n",
    "os.chdir(data_path)\n",
    "os.listdir()"
   ]
  },
  {
   "cell_type": "code",
   "execution_count": 3,
   "metadata": {},
   "outputs": [
    {
     "data": {
      "text/plain": [
       "(97, 166)"
      ]
     },
     "execution_count": 3,
     "metadata": {},
     "output_type": "execute_result"
    }
   ],
   "source": [
    "df = pd.read_csv(file_path)\n",
    "df.shape"
   ]
  },
  {
   "cell_type": "code",
   "execution_count": 4,
   "metadata": {},
   "outputs": [
    {
     "data": {
      "text/plain": [
       "RegionID      97\n",
       "SizeRank      97\n",
       "RegionName    97\n",
       "RegionType     2\n",
       "StateName     40\n",
       "              ..\n",
       "2020-10-31    97\n",
       "2020-11-07    97\n",
       "2020-11-14    97\n",
       "2020-11-21    97\n",
       "2020-11-28    96\n",
       "Length: 166, dtype: int64"
      ]
     },
     "execution_count": 4,
     "metadata": {},
     "output_type": "execute_result"
    }
   ],
   "source": [
    "df.nunique()"
   ]
  },
  {
   "cell_type": "code",
   "execution_count": 5,
   "metadata": {},
   "outputs": [
    {
     "data": {
      "text/html": [
       "<div>\n",
       "<style scoped>\n",
       "    .dataframe tbody tr th:only-of-type {\n",
       "        vertical-align: middle;\n",
       "    }\n",
       "\n",
       "    .dataframe tbody tr th {\n",
       "        vertical-align: top;\n",
       "    }\n",
       "\n",
       "    .dataframe thead th {\n",
       "        text-align: right;\n",
       "    }\n",
       "</style>\n",
       "<table border=\"1\" class=\"dataframe\">\n",
       "  <thead>\n",
       "    <tr style=\"text-align: right;\">\n",
       "      <th></th>\n",
       "      <th>RegionID</th>\n",
       "      <th>SizeRank</th>\n",
       "      <th>2017-11-04</th>\n",
       "      <th>2017-11-11</th>\n",
       "      <th>2017-11-18</th>\n",
       "      <th>2017-11-25</th>\n",
       "      <th>2017-12-02</th>\n",
       "      <th>2017-12-09</th>\n",
       "      <th>2017-12-16</th>\n",
       "      <th>2017-12-23</th>\n",
       "      <th>...</th>\n",
       "      <th>2020-09-26</th>\n",
       "      <th>2020-10-03</th>\n",
       "      <th>2020-10-10</th>\n",
       "      <th>2020-10-17</th>\n",
       "      <th>2020-10-24</th>\n",
       "      <th>2020-10-31</th>\n",
       "      <th>2020-11-07</th>\n",
       "      <th>2020-11-14</th>\n",
       "      <th>2020-11-21</th>\n",
       "      <th>2020-11-28</th>\n",
       "    </tr>\n",
       "  </thead>\n",
       "  <tbody>\n",
       "    <tr>\n",
       "      <th>count</th>\n",
       "      <td>97.000000</td>\n",
       "      <td>97.000000</td>\n",
       "      <td>9.600000e+01</td>\n",
       "      <td>9.600000e+01</td>\n",
       "      <td>9.600000e+01</td>\n",
       "      <td>9.600000e+01</td>\n",
       "      <td>9.600000e+01</td>\n",
       "      <td>9.600000e+01</td>\n",
       "      <td>9.600000e+01</td>\n",
       "      <td>9.600000e+01</td>\n",
       "      <td>...</td>\n",
       "      <td>9.700000e+01</td>\n",
       "      <td>9.700000e+01</td>\n",
       "      <td>9.700000e+01</td>\n",
       "      <td>9.700000e+01</td>\n",
       "      <td>9.700000e+01</td>\n",
       "      <td>9.700000e+01</td>\n",
       "      <td>9.700000e+01</td>\n",
       "      <td>9.700000e+01</td>\n",
       "      <td>9.700000e+01</td>\n",
       "      <td>9.700000e+01</td>\n",
       "    </tr>\n",
       "    <tr>\n",
       "      <th>mean</th>\n",
       "      <td>402857.154639</td>\n",
       "      <td>48.731959</td>\n",
       "      <td>3.207203e+05</td>\n",
       "      <td>3.204409e+05</td>\n",
       "      <td>3.202104e+05</td>\n",
       "      <td>3.189264e+05</td>\n",
       "      <td>3.182082e+05</td>\n",
       "      <td>3.178034e+05</td>\n",
       "      <td>3.174818e+05</td>\n",
       "      <td>3.175834e+05</td>\n",
       "      <td>...</td>\n",
       "      <td>3.812892e+05</td>\n",
       "      <td>3.805674e+05</td>\n",
       "      <td>3.801162e+05</td>\n",
       "      <td>3.794665e+05</td>\n",
       "      <td>3.788458e+05</td>\n",
       "      <td>3.781121e+05</td>\n",
       "      <td>3.774961e+05</td>\n",
       "      <td>3.769226e+05</td>\n",
       "      <td>3.763663e+05</td>\n",
       "      <td>3.757984e+05</td>\n",
       "    </tr>\n",
       "    <tr>\n",
       "      <th>std</th>\n",
       "      <td>69695.842610</td>\n",
       "      <td>30.067118</td>\n",
       "      <td>1.614974e+05</td>\n",
       "      <td>1.617426e+05</td>\n",
       "      <td>1.625108e+05</td>\n",
       "      <td>1.615961e+05</td>\n",
       "      <td>1.604920e+05</td>\n",
       "      <td>1.603573e+05</td>\n",
       "      <td>1.602941e+05</td>\n",
       "      <td>1.607929e+05</td>\n",
       "      <td>...</td>\n",
       "      <td>1.801774e+05</td>\n",
       "      <td>1.805023e+05</td>\n",
       "      <td>1.811296e+05</td>\n",
       "      <td>1.807901e+05</td>\n",
       "      <td>1.802918e+05</td>\n",
       "      <td>1.801310e+05</td>\n",
       "      <td>1.799379e+05</td>\n",
       "      <td>1.803483e+05</td>\n",
       "      <td>1.811468e+05</td>\n",
       "      <td>1.816038e+05</td>\n",
       "    </tr>\n",
       "    <tr>\n",
       "      <th>min</th>\n",
       "      <td>102001.000000</td>\n",
       "      <td>0.000000</td>\n",
       "      <td>1.391700e+05</td>\n",
       "      <td>1.378690e+05</td>\n",
       "      <td>1.365670e+05</td>\n",
       "      <td>1.348500e+05</td>\n",
       "      <td>1.324500e+05</td>\n",
       "      <td>1.299250e+05</td>\n",
       "      <td>1.274250e+05</td>\n",
       "      <td>1.261750e+05</td>\n",
       "      <td>...</td>\n",
       "      <td>1.761250e+05</td>\n",
       "      <td>1.736250e+05</td>\n",
       "      <td>1.736500e+05</td>\n",
       "      <td>1.749000e+05</td>\n",
       "      <td>1.743500e+05</td>\n",
       "      <td>1.731000e+05</td>\n",
       "      <td>1.716000e+05</td>\n",
       "      <td>1.678250e+05</td>\n",
       "      <td>1.646750e+05</td>\n",
       "      <td>1.621750e+05</td>\n",
       "    </tr>\n",
       "    <tr>\n",
       "      <th>25%</th>\n",
       "      <td>394492.000000</td>\n",
       "      <td>24.000000</td>\n",
       "      <td>2.207750e+05</td>\n",
       "      <td>2.208500e+05</td>\n",
       "      <td>2.219375e+05</td>\n",
       "      <td>2.219438e+05</td>\n",
       "      <td>2.219500e+05</td>\n",
       "      <td>2.209625e+05</td>\n",
       "      <td>2.195750e+05</td>\n",
       "      <td>2.192438e+05</td>\n",
       "      <td>...</td>\n",
       "      <td>2.777000e+05</td>\n",
       "      <td>2.764500e+05</td>\n",
       "      <td>2.767000e+05</td>\n",
       "      <td>2.779250e+05</td>\n",
       "      <td>2.765750e+05</td>\n",
       "      <td>2.763250e+05</td>\n",
       "      <td>2.756750e+05</td>\n",
       "      <td>2.744250e+05</td>\n",
       "      <td>2.734620e+05</td>\n",
       "      <td>2.728120e+05</td>\n",
       "    </tr>\n",
       "    <tr>\n",
       "      <th>50%</th>\n",
       "      <td>394807.000000</td>\n",
       "      <td>48.000000</td>\n",
       "      <td>2.740315e+05</td>\n",
       "      <td>2.734110e+05</td>\n",
       "      <td>2.726765e+05</td>\n",
       "      <td>2.718000e+05</td>\n",
       "      <td>2.713710e+05</td>\n",
       "      <td>2.717510e+05</td>\n",
       "      <td>2.717570e+05</td>\n",
       "      <td>2.709590e+05</td>\n",
       "      <td>...</td>\n",
       "      <td>3.302230e+05</td>\n",
       "      <td>3.307230e+05</td>\n",
       "      <td>3.309730e+05</td>\n",
       "      <td>3.309720e+05</td>\n",
       "      <td>3.284500e+05</td>\n",
       "      <td>3.262500e+05</td>\n",
       "      <td>3.262500e+05</td>\n",
       "      <td>3.262500e+05</td>\n",
       "      <td>3.259750e+05</td>\n",
       "      <td>3.249500e+05</td>\n",
       "    </tr>\n",
       "    <tr>\n",
       "      <th>75%</th>\n",
       "      <td>395025.000000</td>\n",
       "      <td>72.000000</td>\n",
       "      <td>3.578120e+05</td>\n",
       "      <td>3.585015e+05</td>\n",
       "      <td>3.593972e+05</td>\n",
       "      <td>3.586405e+05</td>\n",
       "      <td>3.592730e+05</td>\n",
       "      <td>3.599170e+05</td>\n",
       "      <td>3.600630e+05</td>\n",
       "      <td>3.600525e+05</td>\n",
       "      <td>...</td>\n",
       "      <td>4.069500e+05</td>\n",
       "      <td>4.087000e+05</td>\n",
       "      <td>4.094250e+05</td>\n",
       "      <td>4.075000e+05</td>\n",
       "      <td>4.081170e+05</td>\n",
       "      <td>4.068670e+05</td>\n",
       "      <td>4.046970e+05</td>\n",
       "      <td>4.022250e+05</td>\n",
       "      <td>4.002500e+05</td>\n",
       "      <td>4.002500e+05</td>\n",
       "    </tr>\n",
       "    <tr>\n",
       "      <th>max</th>\n",
       "      <td>753924.000000</td>\n",
       "      <td>159.000000</td>\n",
       "      <td>1.052458e+06</td>\n",
       "      <td>1.063208e+06</td>\n",
       "      <td>1.084486e+06</td>\n",
       "      <td>1.074500e+06</td>\n",
       "      <td>1.057000e+06</td>\n",
       "      <td>1.052500e+06</td>\n",
       "      <td>1.050000e+06</td>\n",
       "      <td>1.057500e+06</td>\n",
       "      <td>...</td>\n",
       "      <td>1.233147e+06</td>\n",
       "      <td>1.238897e+06</td>\n",
       "      <td>1.246925e+06</td>\n",
       "      <td>1.240175e+06</td>\n",
       "      <td>1.228750e+06</td>\n",
       "      <td>1.223750e+06</td>\n",
       "      <td>1.218000e+06</td>\n",
       "      <td>1.222699e+06</td>\n",
       "      <td>1.235186e+06</td>\n",
       "      <td>1.240140e+06</td>\n",
       "    </tr>\n",
       "  </tbody>\n",
       "</table>\n",
       "<p>8 rows × 163 columns</p>\n",
       "</div>"
      ],
      "text/plain": [
       "            RegionID    SizeRank    2017-11-04    2017-11-11    2017-11-18  \\\n",
       "count      97.000000   97.000000  9.600000e+01  9.600000e+01  9.600000e+01   \n",
       "mean   402857.154639   48.731959  3.207203e+05  3.204409e+05  3.202104e+05   \n",
       "std     69695.842610   30.067118  1.614974e+05  1.617426e+05  1.625108e+05   \n",
       "min    102001.000000    0.000000  1.391700e+05  1.378690e+05  1.365670e+05   \n",
       "25%    394492.000000   24.000000  2.207750e+05  2.208500e+05  2.219375e+05   \n",
       "50%    394807.000000   48.000000  2.740315e+05  2.734110e+05  2.726765e+05   \n",
       "75%    395025.000000   72.000000  3.578120e+05  3.585015e+05  3.593972e+05   \n",
       "max    753924.000000  159.000000  1.052458e+06  1.063208e+06  1.084486e+06   \n",
       "\n",
       "         2017-11-25    2017-12-02    2017-12-09    2017-12-16    2017-12-23  \\\n",
       "count  9.600000e+01  9.600000e+01  9.600000e+01  9.600000e+01  9.600000e+01   \n",
       "mean   3.189264e+05  3.182082e+05  3.178034e+05  3.174818e+05  3.175834e+05   \n",
       "std    1.615961e+05  1.604920e+05  1.603573e+05  1.602941e+05  1.607929e+05   \n",
       "min    1.348500e+05  1.324500e+05  1.299250e+05  1.274250e+05  1.261750e+05   \n",
       "25%    2.219438e+05  2.219500e+05  2.209625e+05  2.195750e+05  2.192438e+05   \n",
       "50%    2.718000e+05  2.713710e+05  2.717510e+05  2.717570e+05  2.709590e+05   \n",
       "75%    3.586405e+05  3.592730e+05  3.599170e+05  3.600630e+05  3.600525e+05   \n",
       "max    1.074500e+06  1.057000e+06  1.052500e+06  1.050000e+06  1.057500e+06   \n",
       "\n",
       "       ...    2020-09-26    2020-10-03    2020-10-10    2020-10-17  \\\n",
       "count  ...  9.700000e+01  9.700000e+01  9.700000e+01  9.700000e+01   \n",
       "mean   ...  3.812892e+05  3.805674e+05  3.801162e+05  3.794665e+05   \n",
       "std    ...  1.801774e+05  1.805023e+05  1.811296e+05  1.807901e+05   \n",
       "min    ...  1.761250e+05  1.736250e+05  1.736500e+05  1.749000e+05   \n",
       "25%    ...  2.777000e+05  2.764500e+05  2.767000e+05  2.779250e+05   \n",
       "50%    ...  3.302230e+05  3.307230e+05  3.309730e+05  3.309720e+05   \n",
       "75%    ...  4.069500e+05  4.087000e+05  4.094250e+05  4.075000e+05   \n",
       "max    ...  1.233147e+06  1.238897e+06  1.246925e+06  1.240175e+06   \n",
       "\n",
       "         2020-10-24    2020-10-31    2020-11-07    2020-11-14    2020-11-21  \\\n",
       "count  9.700000e+01  9.700000e+01  9.700000e+01  9.700000e+01  9.700000e+01   \n",
       "mean   3.788458e+05  3.781121e+05  3.774961e+05  3.769226e+05  3.763663e+05   \n",
       "std    1.802918e+05  1.801310e+05  1.799379e+05  1.803483e+05  1.811468e+05   \n",
       "min    1.743500e+05  1.731000e+05  1.716000e+05  1.678250e+05  1.646750e+05   \n",
       "25%    2.765750e+05  2.763250e+05  2.756750e+05  2.744250e+05  2.734620e+05   \n",
       "50%    3.284500e+05  3.262500e+05  3.262500e+05  3.262500e+05  3.259750e+05   \n",
       "75%    4.081170e+05  4.068670e+05  4.046970e+05  4.022250e+05  4.002500e+05   \n",
       "max    1.228750e+06  1.223750e+06  1.218000e+06  1.222699e+06  1.235186e+06   \n",
       "\n",
       "         2020-11-28  \n",
       "count  9.700000e+01  \n",
       "mean   3.757984e+05  \n",
       "std    1.816038e+05  \n",
       "min    1.621750e+05  \n",
       "25%    2.728120e+05  \n",
       "50%    3.249500e+05  \n",
       "75%    4.002500e+05  \n",
       "max    1.240140e+06  \n",
       "\n",
       "[8 rows x 163 columns]"
      ]
     },
     "execution_count": 5,
     "metadata": {},
     "output_type": "execute_result"
    }
   ],
   "source": [
    "df.describe()"
   ]
  },
  {
   "cell_type": "code",
   "execution_count": 6,
   "metadata": {},
   "outputs": [
    {
     "data": {
      "text/html": [
       "<div>\n",
       "<style scoped>\n",
       "    .dataframe tbody tr th:only-of-type {\n",
       "        vertical-align: middle;\n",
       "    }\n",
       "\n",
       "    .dataframe tbody tr th {\n",
       "        vertical-align: top;\n",
       "    }\n",
       "\n",
       "    .dataframe thead th {\n",
       "        text-align: right;\n",
       "    }\n",
       "</style>\n",
       "<table border=\"1\" class=\"dataframe\">\n",
       "  <thead>\n",
       "    <tr style=\"text-align: right;\">\n",
       "      <th></th>\n",
       "      <th>RegionID</th>\n",
       "      <th>SizeRank</th>\n",
       "      <th>RegionName</th>\n",
       "      <th>RegionType</th>\n",
       "      <th>StateName</th>\n",
       "      <th>2017-11-04</th>\n",
       "      <th>2017-11-11</th>\n",
       "      <th>2017-11-18</th>\n",
       "      <th>2017-11-25</th>\n",
       "      <th>2017-12-02</th>\n",
       "      <th>...</th>\n",
       "      <th>2020-09-26</th>\n",
       "      <th>2020-10-03</th>\n",
       "      <th>2020-10-10</th>\n",
       "      <th>2020-10-17</th>\n",
       "      <th>2020-10-24</th>\n",
       "      <th>2020-10-31</th>\n",
       "      <th>2020-11-07</th>\n",
       "      <th>2020-11-14</th>\n",
       "      <th>2020-11-21</th>\n",
       "      <th>2020-11-28</th>\n",
       "    </tr>\n",
       "  </thead>\n",
       "  <tbody>\n",
       "    <tr>\n",
       "      <th>0</th>\n",
       "      <td>102001</td>\n",
       "      <td>0</td>\n",
       "      <td>United States</td>\n",
       "      <td>Country</td>\n",
       "      <td>NaN</td>\n",
       "      <td>275500.0</td>\n",
       "      <td>275500.0</td>\n",
       "      <td>275500.0</td>\n",
       "      <td>274975.0</td>\n",
       "      <td>274850.0</td>\n",
       "      <td>...</td>\n",
       "      <td>343950.0</td>\n",
       "      <td>344450.0</td>\n",
       "      <td>344950.0</td>\n",
       "      <td>344950.0</td>\n",
       "      <td>344725.0</td>\n",
       "      <td>343918.0</td>\n",
       "      <td>342643.0</td>\n",
       "      <td>341393.0</td>\n",
       "      <td>340143.0</td>\n",
       "      <td>338675.0</td>\n",
       "    </tr>\n",
       "    <tr>\n",
       "      <th>1</th>\n",
       "      <td>394913</td>\n",
       "      <td>1</td>\n",
       "      <td>New York, NY</td>\n",
       "      <td>Msa</td>\n",
       "      <td>NY</td>\n",
       "      <td>523475.0</td>\n",
       "      <td>524750.0</td>\n",
       "      <td>525000.0</td>\n",
       "      <td>524875.0</td>\n",
       "      <td>523625.0</td>\n",
       "      <td>...</td>\n",
       "      <td>647000.0</td>\n",
       "      <td>648000.0</td>\n",
       "      <td>649000.0</td>\n",
       "      <td>649063.0</td>\n",
       "      <td>649288.0</td>\n",
       "      <td>649513.0</td>\n",
       "      <td>649738.0</td>\n",
       "      <td>649675.0</td>\n",
       "      <td>649450.0</td>\n",
       "      <td>649225.0</td>\n",
       "    </tr>\n",
       "    <tr>\n",
       "      <th>2</th>\n",
       "      <td>753899</td>\n",
       "      <td>2</td>\n",
       "      <td>Los Angeles-Long Beach-Anaheim, CA</td>\n",
       "      <td>Msa</td>\n",
       "      <td>CA</td>\n",
       "      <td>812379.0</td>\n",
       "      <td>813661.0</td>\n",
       "      <td>813661.0</td>\n",
       "      <td>815485.0</td>\n",
       "      <td>816510.0</td>\n",
       "      <td>...</td>\n",
       "      <td>980764.0</td>\n",
       "      <td>976187.0</td>\n",
       "      <td>973823.0</td>\n",
       "      <td>970833.0</td>\n",
       "      <td>969625.0</td>\n",
       "      <td>968125.0</td>\n",
       "      <td>969500.0</td>\n",
       "      <td>972000.0</td>\n",
       "      <td>976000.0</td>\n",
       "      <td>981224.0</td>\n",
       "    </tr>\n",
       "    <tr>\n",
       "      <th>3</th>\n",
       "      <td>394463</td>\n",
       "      <td>3</td>\n",
       "      <td>Chicago, IL</td>\n",
       "      <td>Msa</td>\n",
       "      <td>IL</td>\n",
       "      <td>314225.0</td>\n",
       "      <td>312950.0</td>\n",
       "      <td>310675.0</td>\n",
       "      <td>306950.0</td>\n",
       "      <td>303925.0</td>\n",
       "      <td>...</td>\n",
       "      <td>349975.0</td>\n",
       "      <td>349950.0</td>\n",
       "      <td>349925.0</td>\n",
       "      <td>349675.0</td>\n",
       "      <td>348450.0</td>\n",
       "      <td>346975.0</td>\n",
       "      <td>344475.0</td>\n",
       "      <td>341975.0</td>\n",
       "      <td>340475.0</td>\n",
       "      <td>338725.0</td>\n",
       "    </tr>\n",
       "    <tr>\n",
       "      <th>4</th>\n",
       "      <td>394514</td>\n",
       "      <td>4</td>\n",
       "      <td>Dallas-Fort Worth, TX</td>\n",
       "      <td>Msa</td>\n",
       "      <td>TX</td>\n",
       "      <td>343741.0</td>\n",
       "      <td>342516.0</td>\n",
       "      <td>341266.0</td>\n",
       "      <td>340202.0</td>\n",
       "      <td>339950.0</td>\n",
       "      <td>...</td>\n",
       "      <td>359962.0</td>\n",
       "      <td>359938.0</td>\n",
       "      <td>359925.0</td>\n",
       "      <td>359800.0</td>\n",
       "      <td>359550.0</td>\n",
       "      <td>358325.0</td>\n",
       "      <td>357098.0</td>\n",
       "      <td>354723.0</td>\n",
       "      <td>352998.0</td>\n",
       "      <td>352973.0</td>\n",
       "    </tr>\n",
       "  </tbody>\n",
       "</table>\n",
       "<p>5 rows × 166 columns</p>\n",
       "</div>"
      ],
      "text/plain": [
       "   RegionID  SizeRank                          RegionName RegionType  \\\n",
       "0    102001         0                       United States    Country   \n",
       "1    394913         1                        New York, NY        Msa   \n",
       "2    753899         2  Los Angeles-Long Beach-Anaheim, CA        Msa   \n",
       "3    394463         3                         Chicago, IL        Msa   \n",
       "4    394514         4               Dallas-Fort Worth, TX        Msa   \n",
       "\n",
       "  StateName  2017-11-04  2017-11-11  2017-11-18  2017-11-25  2017-12-02  ...  \\\n",
       "0       NaN    275500.0    275500.0    275500.0    274975.0    274850.0  ...   \n",
       "1        NY    523475.0    524750.0    525000.0    524875.0    523625.0  ...   \n",
       "2        CA    812379.0    813661.0    813661.0    815485.0    816510.0  ...   \n",
       "3        IL    314225.0    312950.0    310675.0    306950.0    303925.0  ...   \n",
       "4        TX    343741.0    342516.0    341266.0    340202.0    339950.0  ...   \n",
       "\n",
       "   2020-09-26  2020-10-03  2020-10-10  2020-10-17  2020-10-24  2020-10-31  \\\n",
       "0    343950.0    344450.0    344950.0    344950.0    344725.0    343918.0   \n",
       "1    647000.0    648000.0    649000.0    649063.0    649288.0    649513.0   \n",
       "2    980764.0    976187.0    973823.0    970833.0    969625.0    968125.0   \n",
       "3    349975.0    349950.0    349925.0    349675.0    348450.0    346975.0   \n",
       "4    359962.0    359938.0    359925.0    359800.0    359550.0    358325.0   \n",
       "\n",
       "   2020-11-07  2020-11-14  2020-11-21  2020-11-28  \n",
       "0    342643.0    341393.0    340143.0    338675.0  \n",
       "1    649738.0    649675.0    649450.0    649225.0  \n",
       "2    969500.0    972000.0    976000.0    981224.0  \n",
       "3    344475.0    341975.0    340475.0    338725.0  \n",
       "4    357098.0    354723.0    352998.0    352973.0  \n",
       "\n",
       "[5 rows x 166 columns]"
      ]
     },
     "execution_count": 6,
     "metadata": {},
     "output_type": "execute_result"
    }
   ],
   "source": [
    "df.head()"
   ]
  },
  {
   "cell_type": "code",
   "execution_count": 7,
   "metadata": {},
   "outputs": [],
   "source": [
    "df.drop(columns=['RegionType', 'RegionID', 'StateName'], axis=1, inplace=True)"
   ]
  },
  {
   "cell_type": "code",
   "execution_count": 16,
   "metadata": {},
   "outputs": [
    {
     "data": {
      "text/html": [
       "<div>\n",
       "<style scoped>\n",
       "    .dataframe tbody tr th:only-of-type {\n",
       "        vertical-align: middle;\n",
       "    }\n",
       "\n",
       "    .dataframe tbody tr th {\n",
       "        vertical-align: top;\n",
       "    }\n",
       "\n",
       "    .dataframe thead th {\n",
       "        text-align: right;\n",
       "    }\n",
       "</style>\n",
       "<table border=\"1\" class=\"dataframe\">\n",
       "  <thead>\n",
       "    <tr style=\"text-align: right;\">\n",
       "      <th></th>\n",
       "      <th>RegionName</th>\n",
       "      <th>SizeRank</th>\n",
       "      <th>variable</th>\n",
       "      <th>value</th>\n",
       "    </tr>\n",
       "  </thead>\n",
       "  <tbody>\n",
       "    <tr>\n",
       "      <th>0</th>\n",
       "      <td>United States</td>\n",
       "      <td>0</td>\n",
       "      <td>2017-11-04</td>\n",
       "      <td>275500.0</td>\n",
       "    </tr>\n",
       "    <tr>\n",
       "      <th>1</th>\n",
       "      <td>New York, NY</td>\n",
       "      <td>1</td>\n",
       "      <td>2017-11-04</td>\n",
       "      <td>523475.0</td>\n",
       "    </tr>\n",
       "    <tr>\n",
       "      <th>2</th>\n",
       "      <td>Los Angeles-Long Beach-Anaheim, CA</td>\n",
       "      <td>2</td>\n",
       "      <td>2017-11-04</td>\n",
       "      <td>812379.0</td>\n",
       "    </tr>\n",
       "    <tr>\n",
       "      <th>3</th>\n",
       "      <td>Chicago, IL</td>\n",
       "      <td>3</td>\n",
       "      <td>2017-11-04</td>\n",
       "      <td>314225.0</td>\n",
       "    </tr>\n",
       "    <tr>\n",
       "      <th>4</th>\n",
       "      <td>Dallas-Fort Worth, TX</td>\n",
       "      <td>4</td>\n",
       "      <td>2017-11-04</td>\n",
       "      <td>343741.0</td>\n",
       "    </tr>\n",
       "    <tr>\n",
       "      <th>...</th>\n",
       "      <td>...</td>\n",
       "      <td>...</td>\n",
       "      <td>...</td>\n",
       "      <td>...</td>\n",
       "    </tr>\n",
       "    <tr>\n",
       "      <th>15612</th>\n",
       "      <td>Jackson, MS</td>\n",
       "      <td>92</td>\n",
       "      <td>2020-11-28</td>\n",
       "      <td>288625.0</td>\n",
       "    </tr>\n",
       "    <tr>\n",
       "      <th>15613</th>\n",
       "      <td>Augusta, GA</td>\n",
       "      <td>94</td>\n",
       "      <td>2020-11-28</td>\n",
       "      <td>251225.0</td>\n",
       "    </tr>\n",
       "    <tr>\n",
       "      <th>15614</th>\n",
       "      <td>Harrisburg, PA</td>\n",
       "      <td>96</td>\n",
       "      <td>2020-11-28</td>\n",
       "      <td>248057.0</td>\n",
       "    </tr>\n",
       "    <tr>\n",
       "      <th>15615</th>\n",
       "      <td>Provo, UT</td>\n",
       "      <td>100</td>\n",
       "      <td>2020-11-28</td>\n",
       "      <td>507745.0</td>\n",
       "    </tr>\n",
       "    <tr>\n",
       "      <th>15616</th>\n",
       "      <td>Fort Collins, CO</td>\n",
       "      <td>159</td>\n",
       "      <td>2020-11-28</td>\n",
       "      <td>464070.0</td>\n",
       "    </tr>\n",
       "  </tbody>\n",
       "</table>\n",
       "<p>15617 rows × 4 columns</p>\n",
       "</div>"
      ],
      "text/plain": [
       "                               RegionName  SizeRank    variable     value\n",
       "0                           United States         0  2017-11-04  275500.0\n",
       "1                            New York, NY         1  2017-11-04  523475.0\n",
       "2      Los Angeles-Long Beach-Anaheim, CA         2  2017-11-04  812379.0\n",
       "3                             Chicago, IL         3  2017-11-04  314225.0\n",
       "4                   Dallas-Fort Worth, TX         4  2017-11-04  343741.0\n",
       "...                                   ...       ...         ...       ...\n",
       "15612                         Jackson, MS        92  2020-11-28  288625.0\n",
       "15613                         Augusta, GA        94  2020-11-28  251225.0\n",
       "15614                      Harrisburg, PA        96  2020-11-28  248057.0\n",
       "15615                           Provo, UT       100  2020-11-28  507745.0\n",
       "15616                    Fort Collins, CO       159  2020-11-28  464070.0\n",
       "\n",
       "[15617 rows x 4 columns]"
      ]
     },
     "execution_count": 16,
     "metadata": {},
     "output_type": "execute_result"
    }
   ],
   "source": [
    "mdf = pd.melt(df, id_vars = ['RegionName', 'SizeRank'])\n",
    "mdf"
   ]
  },
  {
   "cell_type": "code",
   "execution_count": 17,
   "metadata": {},
   "outputs": [],
   "source": [
    "mdf['week'] = pd.to_datetime(mdf['variable'])\n",
    "mdf.drop(columns='variable', axis=1, inplace=True)\n",
    "mdf.rename(columns={'value':'median_l-price'}, inplace=True)"
   ]
  },
  {
   "cell_type": "code",
   "execution_count": 18,
   "metadata": {},
   "outputs": [],
   "source": [
    "sat_medlist = mdf[mdf['RegionName'] == 'San Antonio, TX']"
   ]
  },
  {
   "cell_type": "code",
   "execution_count": 19,
   "metadata": {},
   "outputs": [
    {
     "data": {
      "text/html": [
       "<div>\n",
       "<style scoped>\n",
       "    .dataframe tbody tr th:only-of-type {\n",
       "        vertical-align: middle;\n",
       "    }\n",
       "\n",
       "    .dataframe tbody tr th {\n",
       "        vertical-align: top;\n",
       "    }\n",
       "\n",
       "    .dataframe thead th {\n",
       "        text-align: right;\n",
       "    }\n",
       "</style>\n",
       "<table border=\"1\" class=\"dataframe\">\n",
       "  <thead>\n",
       "    <tr style=\"text-align: right;\">\n",
       "      <th></th>\n",
       "      <th>RegionName</th>\n",
       "      <th>SizeRank</th>\n",
       "      <th>median_l-price</th>\n",
       "      <th>week</th>\n",
       "    </tr>\n",
       "  </thead>\n",
       "  <tbody>\n",
       "    <tr>\n",
       "      <th>26</th>\n",
       "      <td>San Antonio, TX</td>\n",
       "      <td>26</td>\n",
       "      <td>280173.0</td>\n",
       "      <td>2017-11-04</td>\n",
       "    </tr>\n",
       "    <tr>\n",
       "      <th>123</th>\n",
       "      <td>San Antonio, TX</td>\n",
       "      <td>26</td>\n",
       "      <td>280173.0</td>\n",
       "      <td>2017-11-11</td>\n",
       "    </tr>\n",
       "    <tr>\n",
       "      <th>220</th>\n",
       "      <td>San Antonio, TX</td>\n",
       "      <td>26</td>\n",
       "      <td>279948.0</td>\n",
       "      <td>2017-11-18</td>\n",
       "    </tr>\n",
       "    <tr>\n",
       "      <th>317</th>\n",
       "      <td>San Antonio, TX</td>\n",
       "      <td>26</td>\n",
       "      <td>279675.0</td>\n",
       "      <td>2017-11-25</td>\n",
       "    </tr>\n",
       "    <tr>\n",
       "      <th>414</th>\n",
       "      <td>San Antonio, TX</td>\n",
       "      <td>26</td>\n",
       "      <td>279700.0</td>\n",
       "      <td>2017-12-02</td>\n",
       "    </tr>\n",
       "    <tr>\n",
       "      <th>...</th>\n",
       "      <td>...</td>\n",
       "      <td>...</td>\n",
       "      <td>...</td>\n",
       "      <td>...</td>\n",
       "    </tr>\n",
       "    <tr>\n",
       "      <th>15158</th>\n",
       "      <td>San Antonio, TX</td>\n",
       "      <td>26</td>\n",
       "      <td>297325.0</td>\n",
       "      <td>2020-10-31</td>\n",
       "    </tr>\n",
       "    <tr>\n",
       "      <th>15255</th>\n",
       "      <td>San Antonio, TX</td>\n",
       "      <td>26</td>\n",
       "      <td>295850.0</td>\n",
       "      <td>2020-11-07</td>\n",
       "    </tr>\n",
       "    <tr>\n",
       "      <th>15352</th>\n",
       "      <td>San Antonio, TX</td>\n",
       "      <td>26</td>\n",
       "      <td>293725.0</td>\n",
       "      <td>2020-11-14</td>\n",
       "    </tr>\n",
       "    <tr>\n",
       "      <th>15449</th>\n",
       "      <td>San Antonio, TX</td>\n",
       "      <td>26</td>\n",
       "      <td>292325.0</td>\n",
       "      <td>2020-11-21</td>\n",
       "    </tr>\n",
       "    <tr>\n",
       "      <th>15546</th>\n",
       "      <td>San Antonio, TX</td>\n",
       "      <td>26</td>\n",
       "      <td>290825.0</td>\n",
       "      <td>2020-11-28</td>\n",
       "    </tr>\n",
       "  </tbody>\n",
       "</table>\n",
       "<p>161 rows × 4 columns</p>\n",
       "</div>"
      ],
      "text/plain": [
       "            RegionName  SizeRank  median_l-price       week\n",
       "26     San Antonio, TX        26        280173.0 2017-11-04\n",
       "123    San Antonio, TX        26        280173.0 2017-11-11\n",
       "220    San Antonio, TX        26        279948.0 2017-11-18\n",
       "317    San Antonio, TX        26        279675.0 2017-11-25\n",
       "414    San Antonio, TX        26        279700.0 2017-12-02\n",
       "...                ...       ...             ...        ...\n",
       "15158  San Antonio, TX        26        297325.0 2020-10-31\n",
       "15255  San Antonio, TX        26        295850.0 2020-11-07\n",
       "15352  San Antonio, TX        26        293725.0 2020-11-14\n",
       "15449  San Antonio, TX        26        292325.0 2020-11-21\n",
       "15546  San Antonio, TX        26        290825.0 2020-11-28\n",
       "\n",
       "[161 rows x 4 columns]"
      ]
     },
     "execution_count": 19,
     "metadata": {},
     "output_type": "execute_result"
    }
   ],
   "source": [
    "sat_medlist"
   ]
  },
  {
   "cell_type": "code",
   "execution_count": 20,
   "metadata": {},
   "outputs": [],
   "source": [
    "import matplotlib as plt\n",
    "import seaborn as sns"
   ]
  },
  {
   "cell_type": "code",
   "execution_count": 22,
   "metadata": {},
   "outputs": [
    {
     "data": {
      "text/plain": [
       "<AxesSubplot:xlabel='week'>"
      ]
     },
     "execution_count": 22,
     "metadata": {},
     "output_type": "execute_result"
    },
    {
     "data": {
      "image/png": "[encoded data removed]",
      "text/plain": [
       "<Figure size 432x288 with 1 Axes>"
      ]
     },
     "metadata": {
      "needs_background": "light"
     },
     "output_type": "display_data"
    }
   ],
   "source": [
    "sat_medlist.plot(kind='line', x='week', y='median_l-price')"
   ]
  },
  {
   "cell_type": "code",
   "execution_count": 23,
   "metadata": {},
   "outputs": [],
   "source": [
    "atx_medlist = mdf[mdf['RegionName'] == 'Austin, TX']\n",
    "dfw_medlist =  mdf[mdf['RegionName'] == 'Dallas-Fort Worth, TX']\n",
    "nyc_medlist =  mdf[mdf['RegionName'] == 'New York, NY']\n",
    "sfo_medlist =  mdf[mdf['RegionName'] == 'San Francisco, CA']"
   ]
  },
  {
   "cell_type": "code",
   "execution_count": 25,
   "metadata": {},
   "outputs": [
    {
     "data": {
      "text/plain": [
       "<AxesSubplot:xlabel='week'>"
      ]
     },
     "execution_count": 25,
     "metadata": {},
     "output_type": "execute_result"
    },
    {
     "data": {
      "image/png": "[encoded data removed]",
      "text/plain": [
       "<Figure size 432x288 with 1 Axes>"
      ]
     },
     "metadata": {
      "needs_background": "light"
     },
     "output_type": "display_data"
    }
   ],
   "source": [
    "atx_medlist.plot(kind='line',  x='week', y='median_l-price')"
   ]
  },
  {
   "cell_type": "code",
   "execution_count": 27,
   "metadata": {},
   "outputs": [
    {
     "data": {
      "text/plain": [
       "<AxesSubplot:xlabel='week'>"
      ]
     },
     "execution_count": 27,
     "metadata": {},
     "output_type": "execute_result"
    },
    {
     "data": {
      "image/png": "[encoded data removed]",
      "text/plain": [
       "<Figure size 432x288 with 1 Axes>"
      ]
     },
     "metadata": {
      "needs_background": "light"
     },
     "output_type": "display_data"
    }
   ],
   "source": [
    "dfw_medlist.plot(kind='line',  x='week', y='median_l-price')"
   ]
  },
  {
   "cell_type": "code",
   "execution_count": 28,
   "metadata": {},
   "outputs": [
    {
     "data": {
      "text/plain": [
       "<AxesSubplot:xlabel='week'>"
      ]
     },
     "execution_count": 28,
     "metadata": {},
     "output_type": "execute_result"
    },
    {
     "data": {
      "image/png": "[encoded data removed]",
      "text/plain": [
       "<Figure size 432x288 with 1 Axes>"
      ]
     },
     "metadata": {
      "needs_background": "light"
     },
     "output_type": "display_data"
    }
   ],
   "source": [
    "nyc_medlist.plot(kind='line',  x='week', y='median_l-price')"
   ]
  },
  {
   "cell_type": "code",
   "execution_count": 29,
   "metadata": {},
   "outputs": [
    {
     "data": {
      "text/plain": [
       "<AxesSubplot:xlabel='week'>"
      ]
     },
     "execution_count": 29,
     "metadata": {},
     "output_type": "execute_result"
    },
    {
     "data": {
      "image/png": "[encoded data removed]",
      "text/plain": [
       "<Figure size 432x288 with 1 Axes>"
      ]
     },
     "metadata": {
      "needs_background": "light"
     },
     "output_type": "display_data"
    }
   ],
   "source": [
    "sfo_medlist.plot(kind='line',  x='week', y='median_l-price')"
   ]
  },
  {
   "cell_type": "code",
   "execution_count": null,
   "metadata": {},
   "outputs": [],
   "source": []
  }
 ],
 "metadata": {
  "kernelspec": {
   "display_name": "Python 3",
   "language": "python",
   "name": "python3"
  },
  "language_info": {
   "codemirror_mode": {
    "name": "ipython",
    "version": 3
   },
   "file_extension": ".py",
   "mimetype": "text/x-python",
   "name": "python",
   "nbconvert_exporter": "python",
   "pygments_lexer": "ipython3",
   "version": "3.8.5"
  }
 },
 "nbformat": 4,
 "nbformat_minor": 4
}
